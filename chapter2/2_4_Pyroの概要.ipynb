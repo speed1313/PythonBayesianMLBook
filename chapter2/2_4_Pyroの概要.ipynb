{
  "nbformat": 4,
  "nbformat_minor": 0,
  "metadata": {
    "colab": {
      "name": "2_3_Pyroの概要.ipynb",
      "provenance": [],
      "collapsed_sections": [],
      "authorship_tag": "ABX9TyMEgK+3XgKT0LSO0H7tAjA8",
      "include_colab_link": true
    },
    "kernelspec": {
      "name": "python3",
      "display_name": "Python 3"
    },
    "language_info": {
      "name": "python"
    }
  },
  "cells": [
    {
      "cell_type": "markdown",
      "metadata": {
        "id": "view-in-github",
        "colab_type": "text"
      },
      "source": [
        "<a href=\"https://colab.research.google.com/github/sammy-suyama/PythonBayesianMLBook/blob/main/chapter2/2_3_Pyro%E3%81%AE%E6%A6%82%E8%A6%81.ipynb\" target=\"_parent\"><img src=\"https://colab.research.google.com/assets/colab-badge.svg\" alt=\"Open In Colab\"/></a>"
      ]
    },
    {
      "cell_type": "code",
      "source": [
        "#@title install packages\n",
        "!pip install watermark\n",
        "!pip install japanize-matplotlib\n",
        "#!pip install pyro-ppl==1.7.0\n",
        "!pip install pyro-ppl"
      ],
      "metadata": {
        "colab": {
          "base_uri": "https://localhost:8080/"
        },
        "id": "nppn_IzHSmOx",
        "outputId": "258ca291-3317-4e31-8ea8-02f33e86d10c"
      },
      "execution_count": null,
      "outputs": [
        {
          "output_type": "stream",
          "name": "stdout",
          "text": [
            "Requirement already satisfied: watermark in /usr/local/lib/python3.7/dist-packages (2.3.0)\n",
            "Requirement already satisfied: ipython in /usr/local/lib/python3.7/dist-packages (from watermark) (5.5.0)\n",
            "Requirement already satisfied: importlib-metadata<3.0 in /usr/local/lib/python3.7/dist-packages (from watermark) (2.1.3)\n",
            "Requirement already satisfied: zipp>=0.5 in /usr/local/lib/python3.7/dist-packages (from importlib-metadata<3.0->watermark) (3.8.0)\n",
            "Requirement already satisfied: pygments in /usr/local/lib/python3.7/dist-packages (from ipython->watermark) (2.6.1)\n",
            "Requirement already satisfied: decorator in /usr/local/lib/python3.7/dist-packages (from ipython->watermark) (4.4.2)\n",
            "Requirement already satisfied: simplegeneric>0.8 in /usr/local/lib/python3.7/dist-packages (from ipython->watermark) (0.8.1)\n",
            "Requirement already satisfied: pexpect in /usr/local/lib/python3.7/dist-packages (from ipython->watermark) (4.8.0)\n",
            "Requirement already satisfied: setuptools>=18.5 in /usr/local/lib/python3.7/dist-packages (from ipython->watermark) (57.4.0)\n",
            "Requirement already satisfied: traitlets>=4.2 in /usr/local/lib/python3.7/dist-packages (from ipython->watermark) (5.1.1)\n",
            "Requirement already satisfied: prompt-toolkit<2.0.0,>=1.0.4 in /usr/local/lib/python3.7/dist-packages (from ipython->watermark) (1.0.18)\n",
            "Requirement already satisfied: pickleshare in /usr/local/lib/python3.7/dist-packages (from ipython->watermark) (0.7.5)\n",
            "Requirement already satisfied: six>=1.9.0 in /usr/local/lib/python3.7/dist-packages (from prompt-toolkit<2.0.0,>=1.0.4->ipython->watermark) (1.15.0)\n",
            "Requirement already satisfied: wcwidth in /usr/local/lib/python3.7/dist-packages (from prompt-toolkit<2.0.0,>=1.0.4->ipython->watermark) (0.2.5)\n",
            "Requirement already satisfied: ptyprocess>=0.5 in /usr/local/lib/python3.7/dist-packages (from pexpect->ipython->watermark) (0.7.0)\n",
            "Requirement already satisfied: japanize-matplotlib in /usr/local/lib/python3.7/dist-packages (1.1.3)\n",
            "Requirement already satisfied: matplotlib in /usr/local/lib/python3.7/dist-packages (from japanize-matplotlib) (3.2.2)\n",
            "Requirement already satisfied: python-dateutil>=2.1 in /usr/local/lib/python3.7/dist-packages (from matplotlib->japanize-matplotlib) (2.8.2)\n",
            "Requirement already satisfied: kiwisolver>=1.0.1 in /usr/local/lib/python3.7/dist-packages (from matplotlib->japanize-matplotlib) (1.4.2)\n",
            "Requirement already satisfied: pyparsing!=2.0.4,!=2.1.2,!=2.1.6,>=2.0.1 in /usr/local/lib/python3.7/dist-packages (from matplotlib->japanize-matplotlib) (3.0.9)\n",
            "Requirement already satisfied: numpy>=1.11 in /usr/local/lib/python3.7/dist-packages (from matplotlib->japanize-matplotlib) (1.21.6)\n",
            "Requirement already satisfied: cycler>=0.10 in /usr/local/lib/python3.7/dist-packages (from matplotlib->japanize-matplotlib) (0.11.0)\n",
            "Requirement already satisfied: typing-extensions in /usr/local/lib/python3.7/dist-packages (from kiwisolver>=1.0.1->matplotlib->japanize-matplotlib) (4.2.0)\n",
            "Requirement already satisfied: six>=1.5 in /usr/local/lib/python3.7/dist-packages (from python-dateutil>=2.1->matplotlib->japanize-matplotlib) (1.15.0)\n",
            "Requirement already satisfied: pyro-ppl in /usr/local/lib/python3.7/dist-packages (1.8.1)\n",
            "Requirement already satisfied: pyro-api>=0.1.1 in /usr/local/lib/python3.7/dist-packages (from pyro-ppl) (0.1.2)\n",
            "Requirement already satisfied: opt-einsum>=2.3.2 in /usr/local/lib/python3.7/dist-packages (from pyro-ppl) (3.3.0)\n",
            "Requirement already satisfied: torch>=1.11.0 in /usr/local/lib/python3.7/dist-packages (from pyro-ppl) (1.11.0+cu113)\n",
            "Requirement already satisfied: numpy>=1.7 in /usr/local/lib/python3.7/dist-packages (from pyro-ppl) (1.21.6)\n",
            "Requirement already satisfied: tqdm>=4.36 in /usr/local/lib/python3.7/dist-packages (from pyro-ppl) (4.64.0)\n",
            "Requirement already satisfied: typing-extensions in /usr/local/lib/python3.7/dist-packages (from torch>=1.11.0->pyro-ppl) (4.2.0)\n"
          ]
        }
      ]
    },
    {
      "cell_type": "code",
      "execution_count": null,
      "metadata": {
        "id": "uRQP6fjbiL-g"
      },
      "outputs": [],
      "source": [
        "import numpy as np\n",
        "import pandas as pd\n",
        "from scipy import stats\n",
        "import seaborn as sns\n",
        "import matplotlib.pyplot as plt\n",
        "import arviz as az\n",
        "\n",
        "sns.set_context('talk', font_scale=0.8)\n",
        "import japanize_matplotlib"
      ]
    },
    {
      "cell_type": "code",
      "source": [
        "import torch\n",
        "from torch.distributions import constraints\n",
        "\n",
        "import pyro\n",
        "\n",
        "# 観測データ\n",
        "y = torch.tensor([1, 0, 0, 1, 1, 1, 0, 1, 1, 0], dtype=torch.float)"
      ],
      "metadata": {
        "id": "3fTV-bFhb8W2"
      },
      "execution_count": null,
      "outputs": []
    },
    {
      "cell_type": "code",
      "source": [
        "# モデルの定義\n",
        "def model(y):\n",
        "    # 事前分布のパラメータ\n",
        "    alpha = torch.tensor(1.0)\n",
        "    beta = torch.tensor(1.0)\n",
        "    \n",
        "    # 推論対象とするパラメータの事前分布\n",
        "    theta = pyro.sample(\"theta\", pyro.distributions.Beta(alpha, beta))\n",
        "    \n",
        "    # 観測データの数だけ生成\n",
        "    with pyro.plate(\"sample\", len(y)):\n",
        "        # 尤度関数\n",
        "        pyro.sample(\"obs\", pyro.distributions.Bernoulli(theta), obs=y)"
      ],
      "metadata": {
        "id": "9DXq-OSsZAg8"
      },
      "execution_count": null,
      "outputs": []
    },
    {
      "cell_type": "code",
      "source": [
        "# 近似分布の定義\n",
        "def guide(y):\n",
        "    # 最適化する変分パラメータ（正に制約）\n",
        "    alpha_q = pyro.param(\"alpha_q\", torch.tensor(5.0),\n",
        "                      constraint=constraints.positive)\n",
        "    beta_q = pyro.param(\"beta_q\", torch.tensor(5.0),\n",
        "                         constraint=constraints.positive)\n",
        "    \n",
        "    # 近似分布にベータ分布を仮定\n",
        "    pred_p = pyro.sample(\"theta\", pyro.distributions.Beta(alpha_q, beta_q))\n",
        "    return pred_p"
      ],
      "metadata": {
        "id": "c_o0hMrLZAd9"
      },
      "execution_count": null,
      "outputs": []
    },
    {
      "cell_type": "code",
      "source": [
        "# グローバル変数として格納されているパラメータを削除\n",
        "pyro.clear_param_store()\n",
        "pyro.set_rng_seed(1)\n",
        "\n",
        "# optimizerの設定\n",
        "optimizer = pyro.optim.Adam({\"lr\": 0.0005})\n",
        "\n",
        "# SVIの設定（ELBO計算に使う近似分布からのサンプル数を30に設定）\n",
        "svi = pyro.infer.SVI(model, guide, optimizer, loss=pyro.infer.Trace_ELBO(num_particles=30))\n",
        "\n",
        "# 最適化ループ\n",
        "loss_list = []\n",
        "for step in range(1000):\n",
        "    loss = svi.step(y)\n",
        "    loss_list.append(loss)"
      ],
      "metadata": {
        "id": "P6KAh8nhZAYM"
      },
      "execution_count": null,
      "outputs": []
    },
    {
      "cell_type": "code",
      "source": [
        "plt.plot(loss_list)\n",
        "plt.xlabel('Iter Num')\n",
        "plt.ylabel('Loss')"
      ],
      "metadata": {
        "colab": {
          "base_uri": "https://localhost:8080/",
          "height": 309
        },
        "id": "qgh3B1gkaRET",
        "outputId": "c973a9f6-d84a-4087-a7a3-4ec107b00f8d"
      },
      "execution_count": null,
      "outputs": [
        {
          "output_type": "execute_result",
          "data": {
            "text/plain": [
              "Text(0, 0.5, 'Loss')"
            ]
          },
          "metadata": {},
          "execution_count": 7
        },
        {
          "output_type": "display_data",
          "data": {
            "text/plain": [
              "<Figure size 432x288 with 1 Axes>"
            ],
            "image/png": "[encoded data removed]"
          },
          "metadata": {
            "needs_background": "light"
          }
        }
      ]
    },
    {
      "cell_type": "code",
      "source": [
        "# グローバル管理されているパラメータを確認\n",
        "for para_name in pyro.get_param_store():\n",
        "    print(para_name)"
      ],
      "metadata": {
        "colab": {
          "base_uri": "https://localhost:8080/"
        },
        "id": "TEw6fVIQdvrp",
        "outputId": "d135604e-5632-4aa0-9f05-fec922d34eb1"
      },
      "execution_count": null,
      "outputs": [
        {
          "output_type": "stream",
          "name": "stdout",
          "text": [
            "alpha_q\n",
            "beta_q\n"
          ]
        }
      ]
    },
    {
      "cell_type": "code",
      "source": [
        "# 近似分布の平均と標準偏差\n",
        "alpha_q = pyro.param('alpha_q').detach().numpy()\n",
        "beta_q = pyro.param('beta_q').detach().numpy()\n",
        "variational_posterior = stats.beta(alpha_q, beta_q)\n",
        "print('variational posterior mean: {:.3f}'.format(variational_posterior.mean()))\n",
        "print('variational posterior std: {:.3f}'.format(variational_posterior.std()))\n",
        "\n",
        "# 真の事後分布の平均と標準偏差\n",
        "alpha_t = 1 + torch.sum(y)\n",
        "beta_t = 1 + 10 - torch.sum(y)\n",
        "true_posterior = stats.beta(alpha_t, beta_t)\n",
        "print('true posterior mean: {:.3f}'.format(true_posterior.mean()))\n",
        "print('true posterior std: {:.3f}'.format(true_posterior.std()))"
      ],
      "metadata": {
        "colab": {
          "base_uri": "https://localhost:8080/"
        },
        "id": "5yURVbm4aRBM",
        "outputId": "62b7ed85-c7d9-448a-d909-f11701d75156"
      },
      "execution_count": null,
      "outputs": [
        {
          "output_type": "stream",
          "name": "stdout",
          "text": [
            "variational posterior mean: 0.581\n",
            "variational posterior std: 0.146\n",
            "true posterior mean: 0.583\n",
            "true posterior std: 0.137\n"
          ]
        }
      ]
    },
    {
      "cell_type": "code",
      "source": [
        "x_lin = np.linspace(0.0, 1.0, 100)\n",
        "fig, ax = plt.subplots(figsize=(6, 4))\n",
        "# 近似分布\n",
        "ax.plot(x_lin, variational_posterior.pdf(x_lin), ls='--', color='blue', label='guide dist')\n",
        "# 真の事後分布\n",
        "ax.plot(x_lin, true_posterior.pdf(x_lin), ls='--', color='orange', label='true dist')\n",
        "ax.legend()\n",
        "ax.set_xlabel('$theta$');"
      ],
      "metadata": {
        "colab": {
          "base_uri": "https://localhost:8080/",
          "height": 293
        },
        "id": "vjkBF1WVaQ-W",
        "outputId": "9d4f1a6c-19ce-475c-b15e-2edaceb04283"
      },
      "execution_count": null,
      "outputs": [
        {
          "output_type": "display_data",
          "data": {
            "text/plain": [
              "<Figure size 432x288 with 1 Axes>"
            ],
            "image/png": "[encoded data removed]"
          },
          "metadata": {
            "needs_background": "light"
          }
        }
      ]
    },
    {
      "cell_type": "code",
      "source": [
        "%load_ext watermark\n",
        "%watermark --iversions"
      ],
      "metadata": {
        "id": "6pjdRpwIaQ7o",
        "colab": {
          "base_uri": "https://localhost:8080/"
        },
        "outputId": "e2f2d655-d93b-4bac-ec57-3d97b24063d5"
      },
      "execution_count": null,
      "outputs": [
        {
          "output_type": "stream",
          "name": "stdout",
          "text": [
            "pyro               : 1.8.1\n",
            "numpy              : 1.21.6\n",
            "IPython            : 5.5.0\n",
            "pandas             : 1.3.5\n",
            "matplotlib         : 3.2.2\n",
            "arviz              : 0.12.1\n",
            "torch              : 1.11.0+cu113\n",
            "japanize_matplotlib: 1.1.3\n",
            "scipy              : 1.4.1\n",
            "seaborn            : 0.11.2\n",
            "\n"
          ]
        }
      ]
    }
  ]
}